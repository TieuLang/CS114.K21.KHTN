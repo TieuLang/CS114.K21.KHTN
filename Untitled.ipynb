{
  "nbformat": 4,
  "nbformat_minor": 0,
  "metadata": {
    "colab": {
      "name": "Untitled",
      "provenance": [],
      "collapsed_sections": []
    },
    "kernelspec": {
      "name": "python3",
      "display_name": "Python 3"
    }
  },
  "cells": [
    {
      "cell_type": "code",
      "metadata": {
        "id": "Zq09IAhlzeF5",
        "colab_type": "code",
        "colab": {}
      },
      "source": [
        ""
      ],
      "execution_count": 0,
      "outputs": []
    },
    {
      "cell_type": "markdown",
      "metadata": {
        "id": "tZ4pD-48ze3e",
        "colab_type": "text"
      },
      "source": [
        "1.\tMô tả bài toán:\n",
        "-\tInput: dữ liệu về nhà ở bao gồm diện tích, vị trí, số tầng\n",
        "-\tOutput: Giá của ngôi nhà đó\n",
        "2.\tMô tả về bộ dữ liệu: \n",
        "-\tCách thức xây dựng dữ liệu: thu thập dữ liệu trên các trang web bất động sản\n",
        "-\tSố lượng khoảng\t100 ngôi nhà, sẽ thu thập trong phạm vi thành phố Sài Gòn với các quận khác nhau.\n",
        "-\tPhân chia train/test=0.8/0.2\n",
        "3.\tMô tả đặc trưng:\n",
        "-\tCác đặc trưng gồm: diện tích, vị trí, số tầng  của ngôi nhà\n",
        "4.\tMô tả về thuật toán máy học:\n",
        "-\tSử dụng các thuật toán máy học đã được học.\n",
        "5.\tCài đặt, tinh chỉnh tham số\n",
        "6.\tĐánh giá kết quả, kết luận\n",
        "\n"
      ]
    }
  ]
}