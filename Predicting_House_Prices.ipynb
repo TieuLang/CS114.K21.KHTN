{
  "nbformat": 4,
  "nbformat_minor": 0,
  "metadata": {
    "colab": {
      "name": "Predicting House Prices.ipynb",
      "provenance": [],
      "collapsed_sections": [],
      "mount_file_id": "1BEmszrV0D1OCqlvssvlv7a-kiXs5Mvtw",
      "authorship_tag": "ABX9TyNN7pib15W9ylPtBIcK7XYT",
      "include_colab_link": true
    },
    "kernelspec": {
      "name": "python3",
      "display_name": "Python 3"
    }
  },
  "cells": [
    {
      "cell_type": "markdown",
      "metadata": {
        "id": "view-in-github",
        "colab_type": "text"
      },
      "source": [
        "<a href=\"https://colab.research.google.com/github/TieuLang/CS114.K21.KHTN/blob/master/Predicting_House_Prices.ipynb\" target=\"_parent\"><img src=\"https://colab.research.google.com/assets/colab-badge.svg\" alt=\"Open In Colab\"/></a>"
      ]
    },
    {
      "cell_type": "code",
      "metadata": {
        "id": "oWAPLBnYTGA-",
        "colab_type": "code",
        "colab": {
          "base_uri": "https://localhost:8080/",
          "height": 34
        },
        "outputId": "7081c44d-c52c-4d0a-a097-d1245eed6c36"
      },
      "source": [
        "from google.colab import drive\n",
        "drive.mount('/content/gdrive')"
      ],
      "execution_count": 6,
      "outputs": [
        {
          "output_type": "stream",
          "text": [
            "Mounted at /content/gdrive\n"
          ],
          "name": "stdout"
        }
      ]
    },
    {
      "cell_type": "code",
      "metadata": {
        "id": "ChuO_pqJTzcV",
        "colab_type": "code",
        "colab": {
          "base_uri": "https://localhost:8080/",
          "height": 266
        },
        "outputId": "9d1e7af0-1808-4c14-96f8-5c7f09396deb"
      },
      "source": [
        "import numpy as np\n",
        "import pandas as pd\n",
        "import  matplotlib.pyplot as plt\n",
        "\n",
        "data =pd.read_csv('/content/gdrive/My Drive/Colab Notebooks/train112.csv').values\n",
        "N=data.shape[0]\n",
        "x1=data[:,1]\n",
        "x2=data[:,2]\n",
        "x3=data[:,3]\n",
        "x4=data[:,4]\n",
        "x5=data[:,5]\n",
        "x6=data[:,6]\n",
        "y=data[:,7]\n",
        "print(data)"
      ],
      "execution_count": 2,
      "outputs": [
        {
          "output_type": "stream",
          "text": [
            "[[1 84.0 3 ... 106.664818 13.7\n",
            "  'https://batdongsan.com.vn/ban-nha-rieng-duong-truong-son-phuong-4-20/3-tam-sieu-re-hxh-4-quan-tan-binh-pr25918142']\n",
            " [2 125.0 2 ... 106.5684236 3.8\n",
            "  'https://batdongsan.com.vn/ban-nha-rieng-duong-xuan-thoi-thuong-8-xa-xuan-thoi-thuong/lau-5x25m-gan-cho-dai-hai-nga-5-ba-diem-cho-dau-moi-ql22-pr24502814']\n",
            " [3 102.7 4 ... 106.7903743 8.5\n",
            "  'https://batdongsan.com.vn/ban-nha-rieng-duong-d1-phuong-hiep-phu/4-tang-mat-tien-man-thien-p-q9-gia-8-5-ty-so-hong-pr25666480']\n",
            " ...\n",
            " [398 24.5 2 ... 106.740852 1.25\n",
            "  'https://batdongsan.com.vn/ban-nha-rieng-duong-huynh-tan-phat-thi-tran-nha-be/gap-shr-hem-xe-hoi-1886-tret-lau-gia-1-ty-250-pr21479447']\n",
            " [399 55.5 3 ... 106.7947764 4.85\n",
            "  'https://batdongsan.com.vn/ban-nha-rieng-duong-la-xuan-oai-phuong-tang-nhon-phu-a/158m2-3pn-1t2l1t-full-nt-hem-146-nhom-q9-gi-chi-4ty850-pr26493304']\n",
            " [400 33.0 3 ... 106.74036709999999 1.85\n",
            "  'https://batdongsan.com.vn/ban-nha-rieng-duong-huynh-tan-phat-thi-tran-nha-be/can-tien-can-shr-gia-1-ty-250-moi-xay-100-dt-4-x-8-5m-tret-hai-lau-4-pn-4wc-pr15848935']]\n"
          ],
          "name": "stdout"
        }
      ]
    },
    {
      "cell_type": "code",
      "metadata": {
        "id": "xRzVIW9pT5NS",
        "colab_type": "code",
        "colab": {
          "base_uri": "https://localhost:8080/",
          "height": 52
        },
        "outputId": "dbd209ef-a16d-4ef1-cd0c-853309688d5c"
      },
      "source": [
        "numofiteration=100000\n",
        "w=np.array([0.,0.,0.,0.,0.,0.,0.])\n",
        "cost = np.zeros((numofiteration,1))\n",
        "learning_rate = 0.000001\n",
        "sum1=[]\n",
        "for i in range(N):\n",
        "    sum1.append(0)\n",
        "for i in range(1,numofiteration):\n",
        "    for j in range(N):\n",
        "        sum1[j]=x1[j]*w[0]+x2[j]*w[1]+x3[j]*w[2]+w[3]+w[4]*x4[j]+w[5]*abs(x5[j]-10.8196947)+w[6]*abs(x6[j]-106.6747128)-y[j]\n",
        "    for j in range(N):\n",
        "        cost[i]=(cost[i]+0.5*sum1[j]*sum1[j])\n",
        "    w[3]-=learning_rate*np.sum(sum1)\n",
        "    for j in range(N):\n",
        "        w[0]-=learning_rate*(sum1[j]*x1[j])\n",
        "    for j in range(N):\n",
        "        w[1] -= learning_rate * (sum1[j] * x2[j])\n",
        "    for j in range(N):\n",
        "        w[2] -= learning_rate * (sum1[j] * x3[j])\n",
        "    for j in range(N):\n",
        "        w[4] -= learning_rate * (sum1[j] * x4[j])\n",
        "    for j in range(N):\n",
        "        w[5] -= learning_rate * (sum1[j] * x5[j])\n",
        "    for j in range(N):\n",
        "        w[6] -= learning_rate * (sum1[j] * x6[j])\n",
        "print(w)"
      ],
      "execution_count": 3,
      "outputs": [
        {
          "output_type": "stream",
          "text": [
            "[  0.06331692   1.00170457   0.38798156  -0.41554793  -0.09305967\n",
            "   3.4141282  -44.19279753]\n"
          ],
          "name": "stdout"
        }
      ]
    },
    {
      "cell_type": "code",
      "metadata": {
        "id": "S0nbPp-mUGQC",
        "colab_type": "code",
        "colab": {
          "base_uri": "https://localhost:8080/",
          "height": 210
        },
        "outputId": "9f935370-21f2-47a4-f608-6ad1caad102f"
      },
      "source": [
        "test=pd.read_csv('/content/gdrive/My Drive/Colab Notebooks/test112.csv').values\n",
        "N1=test.shape[0]\n",
        "x11=data[:,1]\n",
        "x21=data[:,2]\n",
        "x31=data[:,3]\n",
        "x41=data[:,4]\n",
        "x51=data[:,5]\n",
        "x61=data[:,6]\n",
        "y1=data[:,7]\n",
        "chenh_lech=0\n",
        "for i in range(N1):\n",
        "    chenh_lech=chenh_lech+abs(w[0]*x11[i]+w[1]*x21[i]+w[2]*x31[i]+w[4]*x41[i]+w[5]*abs(x51[i]-10.8196947)+w[6]*abs(x61[i]-106.6747128)+w[3]-y1[i])\n",
        "    print(abs(w[0]*x11[i]+w[1]*x21[i]+w[2]*x31[i]+w[4]*x41[i]+w[5]*abs(x51[i]-10.8196947)+w[6]*abs(x61[i]-106.6747128)+w[3]-y1[i]))\n",
        "chenh_lech_trung_binh=chenh_lech/N1\n",
        "print(chenh_lech_trung_binh)"
      ],
      "execution_count": 7,
      "outputs": [
        {
          "output_type": "stream",
          "text": [
            "4.645263602120332\n",
            "2.239639841669506\n",
            "2.0194594341193763\n",
            "0.96175241904057\n",
            "1.1549897744823525\n",
            "3.6509525000538776\n",
            "0.6405417486836171\n",
            "2.5231731069765093\n",
            "1.2332416344835488\n",
            "2.35364122199785\n",
            "2.1422655283627536\n"
          ],
          "name": "stdout"
        }
      ]
    },
    {
      "cell_type": "code",
      "metadata": {
        "id": "50t6aYNWWFvm",
        "colab_type": "code",
        "colab": {
          "base_uri": "https://localhost:8080/",
          "height": 34
        },
        "outputId": "b805e925-c4ac-4138-e35b-d3535a979923"
      },
      "source": [
        "%cd /content/gdrive/My Drive/github_repos"
      ],
      "execution_count": 10,
      "outputs": [
        {
          "output_type": "stream",
          "text": [
            "/content/gdrive/My Drive/github_repos\n"
          ],
          "name": "stdout"
        }
      ]
    }
  ]
}